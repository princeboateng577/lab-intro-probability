{
 "cells": [
  {
   "cell_type": "markdown",
   "metadata": {},
   "source": [
    "# Lab | Intro to Probability"
   ]
  },
  {
   "cell_type": "markdown",
   "metadata": {},
   "source": [
    "**Objective**\n",
    "\n",
    "Welcome to this Intro to Probability lab, where we explore decision-making scenarios through the lens of probability and strategic analysis. In the business world, making informed decisions is crucial, especially when faced with uncertainties. This lab focuses on scenarios where probabilistic outcomes play a significant role in shaping strategies and outcomes. Students will engage in exercises that require assessing and choosing optimal paths based on data-driven insights. The goal is to enhance your skills by applying probability concepts to solve real-world problems."
   ]
  },
  {
   "cell_type": "markdown",
   "metadata": {},
   "source": [
    "**Challenge 1**"
   ]
  },
  {
   "cell_type": "markdown",
   "metadata": {},
   "source": [
    "#### Ironhack Airlines \n",
    "\n",
    "Often Airlines sell more tickets than they have seats available, this is called overbooking. Consider the following:\n",
    "- A plane has 450 seats. \n",
    "- Based on historical data we conclude that each individual passenger has a 3% chance of missing it's flight. \n",
    "\n",
    "If the Ironhack Airlines routinely sells 460 tickets, what is the chance that they have a seats for all passenger?"
   ]
  },
  {
   "cell_type": "code",
   "execution_count": 4,
   "metadata": {},
   "outputs": [
    {
     "name": "stdout",
     "output_type": "stream",
     "text": [
      "The probability that there are enough seats for all passengers is: 0.8505\n"
     ]
    }
   ],
   "source": [
    "#code here\n",
    "import scipy.stats as stats\n",
    "\n",
    "# Given values\n",
    "n = 460   # Total tickets sold\n",
    "p = 0.97  # Probability a passenger shows up\n",
    "\n",
    "# Mean and standard deviation for normal approximation\n",
    "mu = n * p\n",
    "sigma = (n * p * (1 - p)) ** 0.5\n",
    "\n",
    "# Compute probability P(X <= 450)\n",
    "probability = stats.norm.cdf(450, mu, sigma)\n",
    "\n",
    "# Print result\n",
    "print(f\"The probability that there are enough seats for all passengers is: {probability:.4f}\")\n"
   ]
  },
  {
   "cell_type": "markdown",
   "metadata": {},
   "source": [
    "**Challenge 2**"
   ]
  },
  {
   "cell_type": "markdown",
   "metadata": {},
   "source": [
    "#### Ironhack Call Center "
   ]
  },
  {
   "cell_type": "markdown",
   "metadata": {},
   "source": [
    "Suppose a customer service representative at a call center is handling customer complaints. Consider the following:\n",
    "- The probability of successfully resolving a customer complaint on the first attempt is 0.3. \n",
    "\n",
    "\n",
    "What is the probability that the representative needs to make at least three attempts before successfully resolving a customer complaint?"
   ]
  },
  {
   "cell_type": "code",
   "execution_count": 9,
   "metadata": {},
   "outputs": [
    {
     "name": "stdout",
     "output_type": "stream",
     "text": [
      "The probability that at least three attempts are needed: 0.49\n"
     ]
    }
   ],
   "source": [
    "#code here\n",
    "# Import necessary library\n",
    "import scipy.stats as stats\n",
    "\n",
    "# Given probability of success\n",
    "p = 0.3  \n",
    "\n",
    "# Compute probabilities for X = 1 and X = 2\n",
    "prob_X_1 = (1 - p) ** 0 * p  # P(X = 1)\n",
    "prob_X_2 = (1 - p) ** 1 * p  # P(X = 2)\n",
    "\n",
    "# Compute P(X >= 3)\n",
    "prob_X_geq_3 = 1 - (prob_X_1 + prob_X_2)\n",
    "\n",
    "# Print result\n",
    "print(f\"The probability that at least three attempts are needed: {prob_X_geq_3:.2f}\")\n"
   ]
  },
  {
   "cell_type": "markdown",
   "metadata": {},
   "source": [
    "**Challenge 3**"
   ]
  },
  {
   "cell_type": "markdown",
   "metadata": {},
   "source": [
    "#### Ironhack Website"
   ]
  },
  {
   "cell_type": "markdown",
   "metadata": {},
   "source": [
    "Consider a scenario related to Ironhack website traffic. Where:\n",
    "- our website takes on average 500 visits per hour.\n",
    "- the website's server is designed to handle up to 550 vists per hour.\n",
    "\n",
    "\n",
    "What is the probability of the website server being overwhelmed?"
   ]
  },
  {
   "cell_type": "code",
   "execution_count": 11,
   "metadata": {},
   "outputs": [
    {
     "name": "stdout",
     "output_type": "stream",
     "text": [
      "The probability of the website server being overwhelmed: 0.0129\n"
     ]
    }
   ],
   "source": [
    "#code here\n",
    "# Import necessary library\n",
    "import scipy.stats as stats\n",
    "\n",
    "# Given values\n",
    "lambda_visits = 500  # Average visits per hour\n",
    "threshold = 550      # Server capacity\n",
    "\n",
    "# Compute probability P(X > 550) using Poisson distribution\n",
    "prob_overwhelmed = 1 - stats.poisson.cdf(threshold, lambda_visits)\n",
    "\n",
    "# Print result\n",
    "print(f\"The probability of the website server being overwhelmed: {prob_overwhelmed:.4f}\")\n"
   ]
  },
  {
   "cell_type": "markdown",
   "metadata": {},
   "source": [
    "What is the probability of being overwhelmed at some point during a day? (consider 24hours)"
   ]
  },
  {
   "cell_type": "code",
   "execution_count": 13,
   "metadata": {},
   "outputs": [
    {
     "name": "stdout",
     "output_type": "stream",
     "text": [
      "The probability of the website server being overwhelmed at least once in 24 hours: 0.2677\n"
     ]
    }
   ],
   "source": [
    "#code here\n",
    "# Import necessary library\n",
    "import scipy.stats as stats\n",
    "\n",
    "# Given values\n",
    "lambda_visits = 500  # Average visits per hour\n",
    "threshold = 550      # Server capacity\n",
    "\n",
    "# Compute probability P(X > 550) using Poisson distribution\n",
    "prob_overwhelmed_1h = 1 - stats.poisson.cdf(threshold, lambda_visits)\n",
    "\n",
    "# Compute probability of not being overwhelmed in one hour\n",
    "prob_not_overwhelmed_1h = 1 - prob_overwhelmed_1h\n",
    "\n",
    "# Compute probability of being overwhelmed at least once in 24 hours\n",
    "prob_overwhelmed_24h = 1 - (prob_not_overwhelmed_1h ** 24)\n",
    "\n",
    "# Print result\n",
    "print(f\"The probability of the website server being overwhelmed at least once in 24 hours: {prob_overwhelmed_24h:.4f}\")\n"
   ]
  },
  {
   "cell_type": "markdown",
   "metadata": {},
   "source": [
    "**Challenge 4**"
   ]
  },
  {
   "cell_type": "markdown",
   "metadata": {},
   "source": [
    "#### Ironhack Helpdesk"
   ]
  },
  {
   "cell_type": "markdown",
   "metadata": {},
   "source": [
    "Consider a scenario related to the time between arrivals of customers at a service desk.\n",
    "\n",
    "On average, a customers arrives every 10minutes.\n",
    "\n",
    "What is the probability that the next customer will arrive within the next 5 minutes?"
   ]
  },
  {
   "cell_type": "code",
   "execution_count": 15,
   "metadata": {},
   "outputs": [
    {
     "name": "stdout",
     "output_type": "stream",
     "text": [
      "The probability that the next customer arrives within 5 minutes: 0.3935\n"
     ]
    }
   ],
   "source": [
    "import math\n",
    "\n",
    "# Given values\n",
    "lambda_rate = 1 / 10  # Average arrival rate (per minute)\n",
    "t = 5  # Time in minutes\n",
    "\n",
    "# Compute probability using the exponential distribution formula\n",
    "prob_arrival_within_5 = 1 - math.exp(-lambda_rate * t)\n",
    "\n",
    "# Print result\n",
    "print(f\"The probability that the next customer arrives within 5 minutes: {prob_arrival_within_5:.4f}\")\n"
   ]
  },
  {
   "cell_type": "markdown",
   "metadata": {},
   "source": [
    "If there is no customer for 15minutes, employees can that a 5minutes break.\n",
    "\n",
    "What is the probability an employee taking a break?"
   ]
  },
  {
   "cell_type": "code",
   "execution_count": 17,
   "metadata": {},
   "outputs": [
    {
     "name": "stdout",
     "output_type": "stream",
     "text": [
      "The probability that an employee can take a break: 0.2231\n"
     ]
    }
   ],
   "source": [
    "import math\n",
    "\n",
    "# Given values\n",
    "lambda_rate = 1 / 10  # Average arrival rate (per minute)\n",
    "t_break = 15  # Time in minutes\n",
    "\n",
    "# Compute probability that no customer arrives for at least 15 minutes\n",
    "prob_no_customer_15 = math.exp(-lambda_rate * t_break)\n",
    "\n",
    "# Print result\n",
    "print(f\"The probability that an employee can take a break: {prob_no_customer_15:.4f}\")\n"
   ]
  },
  {
   "cell_type": "markdown",
   "metadata": {},
   "source": [
    "**Challenge 5**"
   ]
  },
  {
   "cell_type": "markdown",
   "metadata": {},
   "source": [
    "The weights of a certain species of birds follow a normal distribution with a mean weight of 150 grams and a standard deviation of 10 grams. \n",
    "\n",
    "- If we randomly select a bird, what is the probability that its weight is between 140 and 160 grams?"
   ]
  },
  {
   "cell_type": "code",
   "execution_count": 19,
   "metadata": {},
   "outputs": [
    {
     "name": "stdout",
     "output_type": "stream",
     "text": [
      "The probability that a bird weighs between 140 and 160 grams: 0.6827\n"
     ]
    }
   ],
   "source": [
    "#code here\n",
    "# Import necessary library\n",
    "import scipy.stats as stats\n",
    "\n",
    "# Given values\n",
    "mu = 150  # Mean weight in grams\n",
    "sigma = 10  # Standard deviation in grams\n",
    "\n",
    "# Compute cumulative probabilities\n",
    "prob_160 = stats.norm.cdf(160, mu, sigma)  # P(X ≤ 160)\n",
    "prob_140 = stats.norm.cdf(140, mu, sigma)  # P(X ≤ 140)\n",
    "\n",
    "# Compute probability of weight being between 140 and 160 grams\n",
    "prob_between_140_160 = prob_160 - prob_140\n",
    "\n",
    "# Print result\n",
    "print(f\"The probability that a bird weighs between 140 and 160 grams: {prob_between_140_160:.4f}\")\n"
   ]
  },
  {
   "cell_type": "markdown",
   "metadata": {},
   "source": [
    "**Challenge 6**"
   ]
  },
  {
   "cell_type": "markdown",
   "metadata": {},
   "source": [
    "If the lifetime (in hours) of a certain electronic component follows an exponential distribution with a mean lifetime of 50 hours, what is the probability that the component fails within the first 30 hours?"
   ]
  },
  {
   "cell_type": "code",
   "execution_count": 24,
   "metadata": {},
   "outputs": [
    {
     "name": "stdout",
     "output_type": "stream",
     "text": [
      "The probability that the component fails within 30 hours: 0.4512\n"
     ]
    }
   ],
   "source": [
    "#code here\n",
    "import math\n",
    "\n",
    "# Given values\n",
    "mean_lifetime = 50  # Mean lifetime in hours\n",
    "lambda_rate = 1 / mean_lifetime  # Failure rate\n",
    "t_failure = 30  # Time in hours\n",
    "\n",
    "# Compute probability of failure within 30 hours using the exponential CDF\n",
    "prob_failure_30 = 1 - math.exp(-lambda_rate * t_failure)\n",
    "\n",
    "# Print result\n",
    "print(f\"The probability that the component fails within 30 hours: {prob_failure_30:.4f}\")\n"
   ]
  },
  {
   "cell_type": "code",
   "execution_count": null,
   "metadata": {},
   "outputs": [],
   "source": []
  }
 ],
 "metadata": {
  "kernelspec": {
   "display_name": "Python 3 (ipykernel)",
   "language": "python",
   "name": "python3"
  },
  "language_info": {
   "codemirror_mode": {
    "name": "ipython",
    "version": 3
   },
   "file_extension": ".py",
   "mimetype": "text/x-python",
   "name": "python",
   "nbconvert_exporter": "python",
   "pygments_lexer": "ipython3",
   "version": "3.12.3"
  }
 },
 "nbformat": 4,
 "nbformat_minor": 4
}
